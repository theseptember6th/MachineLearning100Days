{
 "cells": [
  {
   "cell_type": "markdown",
   "id": "9107452e",
   "metadata": {},
   "source": [
    "this is what i got from the RapidAPI website"
   ]
  },
  {
   "cell_type": "markdown",
   "id": "bae9ddf4",
   "metadata": {},
   "source": [
    "curl --request GET \\\n",
    "\t--url https://api-baseball.p.rapidapi.com/timezone \\\n",
    "\t--header 'x-rapidapi-host: api-baseball.p.rapidapi.com' \\\n",
    "\t--header 'x-rapidapi-key: 299886d8c4mshf3e2e2cd459a1a1p122017jsn137b15e5927a'"
   ]
  },
  {
   "cell_type": "code",
   "execution_count": null,
   "id": "c63dc8ac",
   "metadata": {},
   "outputs": [],
   "source": []
  },
  {
   "cell_type": "code",
   "execution_count": null,
   "id": "b327280b",
   "metadata": {},
   "outputs": [],
   "source": []
  },
  {
   "cell_type": "markdown",
   "id": "afc8c0a1",
   "metadata": {},
   "source": [
    "Sure! Here's the **general format** to convert a `curl` GET request with headers to Python using the `requests` library:\n",
    "\n",
    "```python\n",
    "import requests\n",
    "\n",
    "url = \"https://your-api-url.com/endpoint\"\n",
    "\n",
    "headers = {\n",
    "    \"header-name-1\": \"value1\",\n",
    "    \"header-name-2\": \"value2\",\n",
    "    # Add more headers as needed\n",
    "}\n",
    "\n",
    "response = requests.get(url, headers=headers)\n",
    "\n",
    "print(response.status_code)\n",
    "print(response.json())  # or response.text\n",
    "```\n",
    "\n",
    "\n"
   ]
  },
  {
   "cell_type": "markdown",
   "id": "fa224e13",
   "metadata": {},
   "source": []
  },
  {
   "cell_type": "markdown",
   "id": "f79cda1a",
   "metadata": {},
   "source": [
    "To use the given `curl` command in Python with the `requests` library, you can translate it like this:\n",
    "\n",
    "### 🧾 Given `curl`:\n",
    "\n",
    "```bash\n",
    "curl --request GET \\\n",
    "  --url https://api-baseball.p.rapidapi.com/timezone \\\n",
    "  --header 'x-rapidapi-host: api-baseball.p.rapidapi.com'\n",
    "```\n",
    "\n",
    "### ✅ Equivalent Python code:\n",
    "\n",
    "```python\n",
    "import requests\n",
    "\n",
    "url = \"https://api-baseball.p.rapidapi.com/timezone\"\n",
    "\n",
    "headers = {\n",
    "    \"x-rapidapi-host\": \"api-baseball.p.rapidapi.com\",\n",
    "    \"x-rapidapi-key\": \"<YOUR_RAPIDAPI_KEY>\"  # You must include this!\n",
    "}\n",
    "\n",
    "response = requests.get(url, headers=headers)\n",
    "\n",
    "print(response.status_code)\n",
    "print(response.json())\n",
    "```\n",
    "\n",
    "> ⚠️ **Important**: You **must** include your `x-rapidapi-key` in the headers. This is how RapidAPI authenticates your request.\n",
    "\n",
    "Would you like help finding or generating your RapidAPI key if you don’t already have one?\n"
   ]
  },
  {
   "cell_type": "code",
   "execution_count": 1,
   "id": "a2e4fbbd",
   "metadata": {},
   "outputs": [],
   "source": [
    "import requests"
   ]
  },
  {
   "cell_type": "code",
   "execution_count": 3,
   "id": "233d273a",
   "metadata": {},
   "outputs": [
    {
     "name": "stdout",
     "output_type": "stream",
     "text": [
      "403\n"
     ]
    }
   ],
   "source": [
    "url=\"https://api-baseball.p.rapidapi.com/timezone \"\n",
    "headers={\n",
    "    \"x-rapidapi-host\": \"api-baseball.p.rapidapi.com\",\n",
    "     \"x-rapidapi-key\": \"299886d8c4mshf3e2e2cd459a1a1p122017jsn137b15e5927a\"\n",
    "}\n",
    "\n",
    "response=requests.get(url,headers=headers)\n",
    "print(response.status_code)"
   ]
  },
  {
   "cell_type": "code",
   "execution_count": 4,
   "id": "4878c114",
   "metadata": {},
   "outputs": [
    {
     "data": {
      "text/plain": [
       "{'message': 'You are not subscribed to this API.'}"
      ]
     },
     "execution_count": 4,
     "metadata": {},
     "output_type": "execute_result"
    }
   ],
   "source": [
    "response.json()"
   ]
  }
 ],
 "metadata": {
  "kernelspec": {
   "display_name": "venv",
   "language": "python",
   "name": "python3"
  },
  "language_info": {
   "codemirror_mode": {
    "name": "ipython",
    "version": 3
   },
   "file_extension": ".py",
   "mimetype": "text/x-python",
   "name": "python",
   "nbconvert_exporter": "python",
   "pygments_lexer": "ipython3",
   "version": "3.13.3"
  }
 },
 "nbformat": 4,
 "nbformat_minor": 5
}
